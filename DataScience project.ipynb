{
 "cells": [
  {
   "cell_type": "code",
   "execution_count": null,
   "id": "79f80952",
   "metadata": {},
   "outputs": [],
   "source": [
    "import pandas as pd\n",
    "import numpy as np\n",
    "import seaborn as sns\n",
    "import matplotlib.pyplot as plt\n",
    "\n",
    "import chart_studio.plotly as py\n",
    "import plotly.graph_objs as go\n",
    "from plotly.offline import iplot, init_notebook_mode\n",
    "import cufflinks\n"
   ]
  },
  {
   "cell_type": "code",
   "execution_count": null,
   "id": "aa54cf25",
   "metadata": {},
   "outputs": [],
   "source": [
    "cufflinks.go_offline()\n",
    "cufflinks.set_config_file(world_readable=True, theme='pearl')"
   ]
  },
  {
   "cell_type": "code",
   "execution_count": null,
   "id": "b13f6b80",
   "metadata": {},
   "outputs": [],
   "source": [
    "df = pd.read_csv('C://Users/Govardhan M G/Downloads/city_day.csv')"
   ]
  },
  {
   "cell_type": "code",
   "execution_count": null,
   "id": "1e9d7c61",
   "metadata": {
    "scrolled": false
   },
   "outputs": [],
   "source": [
    "df"
   ]
  },
  {
   "cell_type": "code",
   "execution_count": null,
   "id": "057bd578",
   "metadata": {},
   "outputs": [],
   "source": [
    "df.columns"
   ]
  },
  {
   "cell_type": "code",
   "execution_count": null,
   "id": "cfaab8e4",
   "metadata": {},
   "outputs": [],
   "source": [
    "df.info()"
   ]
  },
  {
   "cell_type": "code",
   "execution_count": null,
   "id": "93b2a76e",
   "metadata": {},
   "outputs": [],
   "source": [
    "print(df.loc[df['City']=='Bengaluru'])"
   ]
  },
  {
   "cell_type": "code",
   "execution_count": null,
   "id": "96032765",
   "metadata": {},
   "outputs": [],
   "source": [
    "# null counts\n",
    "df.isnull().sum()"
   ]
  },
  {
   "cell_type": "code",
   "execution_count": null,
   "id": "9d0a90ca",
   "metadata": {},
   "outputs": [],
   "source": [
    "df.describe()  # data statistics"
   ]
  },
  {
   "cell_type": "code",
   "execution_count": null,
   "id": "b3ba0744",
   "metadata": {},
   "outputs": [],
   "source": [
    "df['Date'] = pd.to_datetime(df['Date'])\n",
    "df.head()"
   ]
  },
  {
   "cell_type": "code",
   "execution_count": null,
   "id": "767c5073",
   "metadata": {
    "scrolled": true
   },
   "outputs": [],
   "source": [
    "# Missing values\n",
    "def missing_values_table(df):\n",
    "        # Total missing values\n",
    "        mis_val = df.isnull().sum()\n",
    "        \n",
    "        # Percentage of missing values\n",
    "        mis_val_percent = 100 * df.isnull().sum() / len(df)\n",
    "        \n",
    "        # Make a table with the results\n",
    "        mis_val_table = pd.concat([mis_val, mis_val_percent], axis=1)\n",
    "        \n",
    "        # Rename the columns\n",
    "        mis_val_table_ren_columns = mis_val_table.rename(\n",
    "        columns = {0 : 'Missing Values', 1 : '% of Total Values'})\n",
    "        \n",
    "        # Sort the table by percentage of missing descending\n",
    "        mis_val_table_ren_columns = mis_val_table_ren_columns[\n",
    "            mis_val_table_ren_columns.iloc[:,1] != 0].sort_values(\n",
    "        '% of Total Values', ascending=False).round(1)\n",
    "        \n",
    "        # Print some summary information\n",
    "        print (\"Your selected dataframe has \" + str(df.shape[1]) + \" columns.\\n\"      \n",
    "            \"There are \" + str(mis_val_table_ren_columns.shape[0]) +\n",
    "              \" columns that have missing values.\")\n",
    "        \n",
    "        # Return the dataframe with missing information\n",
    "        return mis_val_table_ren_columns\n",
    "\n",
    "missing_values= missing_values_table(df)\n",
    "missing_values.style.background_gradient(cmap='Reds')"
   ]
  },
  {
   "cell_type": "code",
   "execution_count": null,
   "id": "d168e5e2",
   "metadata": {},
   "outputs": [],
   "source": [
    "# visualising yearly data\n",
    "city_day = df.copy()"
   ]
  },
  {
   "cell_type": "code",
   "execution_count": null,
   "id": "d01ae128",
   "metadata": {},
   "outputs": [],
   "source": [
    "city_day['BTX'] = city_day['Benzene']+city_day['Toluene']+city_day['Xylene']\n",
    "city_day.drop(['Benzene','Toluene','Xylene'],axis=1);"
   ]
  },
  {
   "cell_type": "code",
   "execution_count": null,
   "id": "f1d2f992",
   "metadata": {},
   "outputs": [],
   "source": [
    "city_day['Particulate_Matter'] = city_day['PM2.5']+city_day['PM10']"
   ]
  },
  {
   "cell_type": "code",
   "execution_count": null,
   "id": "b37f7dc9",
   "metadata": {},
   "outputs": [],
   "source": [
    "city_day['Particulate_Matter'] = city_day['PM2.5']+city_day['PM10']"
   ]
  },
  {
   "cell_type": "code",
   "execution_count": null,
   "id": "beac08d2",
   "metadata": {},
   "outputs": [],
   "source": [
    "pollutants = ['PM2.5','PM10','NO2', 'CO', 'SO2','O3', 'BTX']"
   ]
  },
  {
   "cell_type": "code",
   "execution_count": null,
   "id": "0a4824a8",
   "metadata": {},
   "outputs": [],
   "source": [
    "city_day.set_index('Date',inplace=True)\n",
    "axes = city_day[pollutants].plot(marker='.', alpha=0.5, linestyle='None', figsize=(16, 20), subplots=True)\n",
    "for ax in axes:\n",
    "    \n",
    "    ax.set_xlabel('Years')\n",
    "    ax.set_ylabel('ug / m3')"
   ]
  },
  {
   "cell_type": "code",
   "execution_count": null,
   "id": "9e2fb388",
   "metadata": {},
   "outputs": [],
   "source": [
    "#Now lets look at a few city wise pollution stats\n",
    "def max_polluted_city(pollutant):\n",
    "    x1 = city_day[[pollutant,'City']].groupby([\"City\"]).mean().sort_values(by=pollutant,ascending=False).reset_index()\n",
    "    x1[pollutant] = round(x1[pollutant],2)\n",
    "    return x1[:10].style.background_gradient(cmap='OrRd')"
   ]
  },
  {
   "cell_type": "code",
   "execution_count": null,
   "id": "9ab9082c",
   "metadata": {},
   "outputs": [],
   "source": [
    "from IPython.display import display_html\n",
    "def display_side_by_side(*args):\n",
    "    html_str=''\n",
    "    for df in args:\n",
    "        html_str+=df.render()\n",
    "    display_html(html_str.replace('table','table style=\"display:inline\"'),raw=True)"
   ]
  },
  {
   "cell_type": "code",
   "execution_count": null,
   "id": "e11101d1",
   "metadata": {},
   "outputs": [],
   "source": [
    "pm2_5 = max_polluted_city('PM2.5')\n",
    "pm10 = max_polluted_city('PM10')\n",
    "no2 = max_polluted_city('NO2')\n",
    "so2 = max_polluted_city('SO2')\n",
    "co = max_polluted_city('CO')\n",
    "btx = max_polluted_city('BTX')\n",
    "\n",
    "\n",
    "display_side_by_side(pm2_5,pm10,no2,so2,co,btx)"
   ]
  },
  {
   "cell_type": "code",
   "execution_count": null,
   "id": "df440c5b",
   "metadata": {},
   "outputs": [],
   "source": [
    "df1 = df.copy()\n",
    "df1['PM2.5']=df1['PM2.5'].fillna((df1['PM2.5'].median()))\n",
    "df1['PM10']=df1['PM10'].fillna((df1['PM10'].median()))\n",
    "df1['NO']=df1['NO'].fillna((df1['NO'].median()))\n",
    "df1['NO2']=df1['NO2'].fillna((df1['NO2'].median()))\n",
    "df1['NOx']=df1['NOx'].fillna((df1['NOx'].median()))\n",
    "df1['NH3']=df1['NH3'].fillna((df1['NH3'].median()))\n",
    "df1['CO']=df1['CO'].fillna((df1['CO'].median()))\n",
    "df1['SO2']=df1['SO2'].fillna((df1['SO2'].median()))\n",
    "df1['O3']=df1['O3'].fillna((df1['O3'].median()))\n",
    "df1['Benzene']=df1['Benzene'].fillna((df1['Benzene'].median()))\n",
    "df1['Toluene']=df1['Toluene'].fillna((df1['Toluene'].median()))\n",
    "df1['Xylene']=df1['Xylene'].fillna((df1['Xylene'].median()))\n",
    "df1['AQI']=df1['AQI'].fillna((df1['AQI'].median()))\n",
    "df1['AQI_Bucket']=df1['AQI_Bucket'].fillna('Moderate')"
   ]
  },
  {
   "cell_type": "code",
   "execution_count": null,
   "id": "3f42c992",
   "metadata": {},
   "outputs": [],
   "source": [
    "df1['City'].unique()"
   ]
  },
  {
   "cell_type": "code",
   "execution_count": null,
   "id": "be97a599",
   "metadata": {},
   "outputs": [],
   "source": [
    "df1['City'].value_counts()"
   ]
  },
  {
   "cell_type": "code",
   "execution_count": null,
   "id": "71f07603",
   "metadata": {},
   "outputs": [],
   "source": [
    "df1['Pollution content'] = df1['PM2.5']+df1['PM10']+df1['NO']+df1['NO2']+df1['NOx']+df1['NH3']+df1['CO']+df1['SO2']+df1['O3']+df1['Benzene']+df1['Toluene']+df1['Xylene']"
   ]
  },
  {
   "cell_type": "code",
   "execution_count": null,
   "id": "e1e582ce",
   "metadata": {},
   "outputs": [],
   "source": [
    "def ploting(var):\n",
    "    df1[var].iplot(title=var,xTitle='Cities',yTitle=var, linecolor='black', )\n",
    "    plt.show()\n",
    "ploting('Pollution content')"
   ]
  },
  {
   "cell_type": "code",
   "execution_count": null,
   "id": "2268c297",
   "metadata": {
    "scrolled": true
   },
   "outputs": [],
   "source": [
    "def max_bar_plot(var):\n",
    "    x1 = df1[['City',var]].groupby([\"City\"]).median().sort_values(by = var,\n",
    "    ascending = True).tail(10).iplot(kind='bar', xTitle='Cities',yTitle=var, \n",
    "                                     linecolor='black', title='{2} {1} {0}'.format(\")\",var,' Most polluted cities('))\n",
    "\n",
    "p = max_bar_plot('Pollution content')"
   ]
  },
  {
   "cell_type": "code",
   "execution_count": null,
   "id": "61cb5f64",
   "metadata": {},
   "outputs": [],
   "source": [
    "def min_bar_plot(var):\n",
    "    x1 = df1[['City',var]].groupby([\"City\"]).mean().sort_values(by = var,\n",
    "    ascending = True).head(10).iplot(kind='bar', xTitle='Cities',yTitle=var, linecolor='black',title='{2} {1} {0}'.format(\")\",var,' Minimum polluted cities('))\n",
    "p1 = min_bar_plot('Pollution content')"
   ]
  },
  {
   "cell_type": "code",
   "execution_count": null,
   "id": "e3bb93f5",
   "metadata": {},
   "outputs": [],
   "source": [
    "#EDA using Pandas Profiling\n",
    "import pandas_profiling"
   ]
  },
  {
   "cell_type": "code",
   "execution_count": null,
   "id": "fb9ba7dd",
   "metadata": {},
   "outputs": [],
   "source": [
    "data = pd.read_csv('C://Users/Govardhan M G/Downloads/city_day.csv')\n",
    "data"
   ]
  },
  {
   "cell_type": "code",
   "execution_count": null,
   "id": "bd1d831d",
   "metadata": {},
   "outputs": [],
   "source": [
    "profile = data.profile_report(title=\"EDA\", explorative = True)\n",
    "profile.to_file(output_file=\"EDA.html\")"
   ]
  },
  {
   "cell_type": "code",
   "execution_count": null,
   "id": "5ad6109e",
   "metadata": {},
   "outputs": [],
   "source": [
    "profile"
   ]
  },
  {
   "cell_type": "code",
   "execution_count": null,
   "id": "353341f0",
   "metadata": {},
   "outputs": [],
   "source": [
    "#Prediction of AQI Bucket using PyCaret\n",
    "from pycaret.classification import *"
   ]
  },
  {
   "cell_type": "code",
   "execution_count": null,
   "id": "80d04aed",
   "metadata": {
    "scrolled": true
   },
   "outputs": [],
   "source": [
    "reg = setup(data = data, \n",
    "             target = 'AQI_Bucket',\n",
    "             silent = True)"
   ]
  },
  {
   "cell_type": "code",
   "execution_count": null,
   "id": "696ba06b",
   "metadata": {},
   "outputs": [],
   "source": [
    "compare_models()   #compare all models"
   ]
  },
  {
   "cell_type": "code",
   "execution_count": null,
   "id": "c13ae71a",
   "metadata": {
    "scrolled": true
   },
   "outputs": [],
   "source": [
    "Adabooster_model = create_model('ada')"
   ]
  },
  {
   "cell_type": "code",
   "execution_count": null,
   "id": "ab8d11c2",
   "metadata": {},
   "outputs": [],
   "source": [
    "evaluate_model(Adabooster_model)"
   ]
  },
  {
   "cell_type": "code",
   "execution_count": null,
   "id": "dc1cc643",
   "metadata": {},
   "outputs": [],
   "source": [
    "save_model(Adabooster_model, 'Ada_booster_classifier')"
   ]
  },
  {
   "cell_type": "code",
   "execution_count": null,
   "id": "94a790aa",
   "metadata": {},
   "outputs": [],
   "source": [
    "Adabooster_model = load_model(model_name='Ada_booster_classifier')"
   ]
  },
  {
   "cell_type": "code",
   "execution_count": null,
   "id": "aed230d0",
   "metadata": {},
   "outputs": [],
   "source": [
    "RandomForest_model = create_model('rf')"
   ]
  },
  {
   "cell_type": "code",
   "execution_count": null,
   "id": "c296407d",
   "metadata": {},
   "outputs": [],
   "source": [
    "evaluate_model(RandomForest_model)"
   ]
  },
  {
   "cell_type": "code",
   "execution_count": null,
   "id": "d725ebfe",
   "metadata": {},
   "outputs": [],
   "source": [
    "save_model(RandomForest_model, 'Random_forest_classifier')"
   ]
  },
  {
   "cell_type": "code",
   "execution_count": null,
   "id": "9435ca24",
   "metadata": {},
   "outputs": [],
   "source": [
    "RandomForest_model = load_model(model_name='Random_forest_classifier')"
   ]
  },
  {
   "cell_type": "code",
   "execution_count": null,
   "id": "26415d3c",
   "metadata": {},
   "outputs": [],
   "source": []
  }
 ],
 "metadata": {
  "kernelspec": {
   "display_name": "Python 3 (ipykernel)",
   "language": "python",
   "name": "python3"
  },
  "language_info": {
   "codemirror_mode": {
    "name": "ipython",
    "version": 3
   },
   "file_extension": ".py",
   "mimetype": "text/x-python",
   "name": "python",
   "nbconvert_exporter": "python",
   "pygments_lexer": "ipython3",
   "version": "3.9.12"
  }
 },
 "nbformat": 4,
 "nbformat_minor": 5
}
